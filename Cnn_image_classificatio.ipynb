{
  "nbformat": 4,
  "nbformat_minor": 0,
  "metadata": {
    "colab": {
      "provenance": [],
      "toc_visible": true
    },
    "kernelspec": {
      "name": "python3",
      "display_name": "Python 3"
    },
    "language_info": {
      "name": "python"
    }
  },
  "cells": [
    {
      "cell_type": "code",
      "execution_count": 1,
      "metadata": {
        "id": "rYrEB1W8yElX"
      },
      "outputs": [],
      "source": [
        "# Import necessary libraries\n",
        "from keras import layers\n",
        "from keras import models\n",
        "from keras.datasets import mnist\n",
        "from keras.utils import to_categorical"
      ]
    },
    {
      "cell_type": "code",
      "source": [
        "# Define the CNN model\n",
        "def create_cnn_model():\n",
        "    model = models.Sequential()\n",
        "    model.add(layers.Conv2D(32, (5, 5), activation='relu', input_shape=(28, 28, 1)))\n",
        "    model.add(layers.MaxPooling2D((2, 2)))\n",
        "    model.add(layers.Conv2D(64, (5, 5), activation='relu'))\n",
        "    model.add(layers.MaxPooling2D((2, 2)))\n",
        "    model.add(layers.Flatten())\n",
        "    model.add(layers.Dense(10, activation='softmax'))\n",
        "    return model"
      ],
      "metadata": {
        "id": "NTEZVxlUyRuD"
      },
      "execution_count": 2,
      "outputs": []
    },
    {
      "cell_type": "code",
      "source": [
        "# Load and preprocess the MNIST dataset\n",
        "def load_and_preprocess_data():\n",
        "    (train_images, train_labels), (test_images, test_labels) = mnist.load_data()\n",
        "    train_images = train_images.reshape((60000, 28, 28, 1)).astype('float32') / 255\n",
        "    test_images = test_images.reshape((10000, 28, 28, 1)).astype('float32') / 255\n",
        "    train_labels = to_categorical(train_labels)\n",
        "    test_labels = to_categorical(test_labels)\n",
        "    return train_images, train_labels, test_images, test_labels"
      ],
      "metadata": {
        "id": "OAofA5xEyX2Q"
      },
      "execution_count": 3,
      "outputs": []
    },
    {
      "cell_type": "code",
      "source": [
        "# Train the CNN model\n",
        "def train_model(model, train_images, train_labels, batch_size=100, epochs=10):\n",
        "    model.compile(loss='categorical_crossentropy', optimizer='sgd', metrics=['accuracy'])\n",
        "    model.fit(train_images, train_labels, batch_size=batch_size, epochs=epochs, verbose=1)\n"
      ],
      "metadata": {
        "id": "QhUamUmbydjR"
      },
      "execution_count": 4,
      "outputs": []
    },
    {
      "cell_type": "code",
      "source": [
        "# Main function to run the project\n",
        "def main():\n",
        "    # Create and summarize the CNN model\n",
        "    model = create_cnn_model()\n",
        "    model.summary()\n",
        "\n",
        "    # Load and preprocess the data\n",
        "    train_images, train_labels, test_images, test_labels = load_and_preprocess_data()\n",
        "\n",
        "    # Train the model\n",
        "    batch_size = 100\n",
        "    epochs = 10\n",
        "    train_model(model, train_images, train_labels, batch_size, epochs)\n",
        "    # Save the trained model to a file (optional)\n",
        "    model.save('mnist_cnn_model.h5')"
      ],
      "metadata": {
        "id": "1t_h6XqNyjWf"
      },
      "execution_count": 8,
      "outputs": []
    },
    {
      "cell_type": "code",
      "source": [
        "\n"
      ],
      "metadata": {
        "colab": {
          "base_uri": "https://localhost:8080/",
          "height": 140
        },
        "id": "Y9weFV34ypwj",
        "outputId": "90c45d90-7560-4b33-8fbb-49fac6a221fd"
      },
      "execution_count": 6,
      "outputs": [
        {
          "output_type": "error",
          "ename": "IndentationError",
          "evalue": "unexpected indent (<ipython-input-6-f33ba93d7b30>, line 2)",
          "traceback": [
            "\u001b[0;36m  File \u001b[0;32m\"<ipython-input-6-f33ba93d7b30>\"\u001b[0;36m, line \u001b[0;32m2\u001b[0m\n\u001b[0;31m    model.save('mnist_cnn_model.h5')\u001b[0m\n\u001b[0m    ^\u001b[0m\n\u001b[0;31mIndentationError\u001b[0m\u001b[0;31m:\u001b[0m unexpected indent\n"
          ]
        }
      ]
    },
    {
      "cell_type": "code",
      "source": [],
      "metadata": {
        "id": "1trn_ofTyua7"
      },
      "execution_count": null,
      "outputs": []
    }
  ]
}